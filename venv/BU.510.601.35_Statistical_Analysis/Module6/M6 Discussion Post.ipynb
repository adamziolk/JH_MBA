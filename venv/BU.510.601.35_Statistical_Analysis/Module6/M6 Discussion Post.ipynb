{
 "cells": [
  {
   "cell_type": "code",
   "execution_count": 1,
   "id": "0faeda11",
   "metadata": {},
   "outputs": [],
   "source": [
    "import pandas as pd"
   ]
  },
  {
   "cell_type": "code",
   "execution_count": 36,
   "id": "4fcb5d4e",
   "metadata": {},
   "outputs": [],
   "source": [
    "sales = {\n",
    "    1: 12_000_000, \n",
    "    2: 11_500_000,\n",
    "    3: 11_000_000,\n",
    "    4: 10_500_000,\n",
    "    5: 10_000_000,\n",
    "    6: 9_500_000,\n",
    "    7: 9_000_000,\n",
    "    8: 8_500_000,\n",
    "    9: 8_000_000\n",
    "    }\n",
    "\n",
    "data = pd.Series(sales, name=\"Sales\")\n",
    "\n",
    "data.index.name = \"Store\"\n",
    "data = data.reset_index()"
   ]
  },
  {
   "cell_type": "code",
   "execution_count": 38,
   "id": "39411760",
   "metadata": {},
   "outputs": [
    {
     "data": {
      "text/plain": [
       "90000000"
      ]
     },
     "execution_count": 38,
     "metadata": {},
     "output_type": "execute_result"
    }
   ],
   "source": [
    "data['Sales'].sum()"
   ]
  },
  {
   "cell_type": "code",
   "execution_count": 41,
   "id": "3ba090f3",
   "metadata": {},
   "outputs": [
    {
     "data": {
      "text/plain": [
       "0    13200000.0\n",
       "1    12650000.0\n",
       "2    12100000.0\n",
       "3    11550000.0\n",
       "4    11000000.0\n",
       "5    10450000.0\n",
       "6     9900000.0\n",
       "7     9350000.0\n",
       "8     8800000.0\n",
       "Name: Sales, dtype: float64"
      ]
     },
     "execution_count": 41,
     "metadata": {},
     "output_type": "execute_result"
    }
   ],
   "source": [
    "data['Sales']*1.1"
   ]
  },
  {
   "cell_type": "code",
   "execution_count": 42,
   "id": "a12d6dd6",
   "metadata": {},
   "outputs": [
    {
     "data": {
      "text/plain": [
       "10000000.0"
      ]
     },
     "execution_count": 42,
     "metadata": {},
     "output_type": "execute_result"
    }
   ],
   "source": [
    "data['Sales'].mean()"
   ]
  },
  {
   "cell_type": "code",
   "execution_count": 45,
   "id": "e32a1567",
   "metadata": {},
   "outputs": [
    {
     "data": {
      "text/plain": [
       "0    2000000.0\n",
       "1    1500000.0\n",
       "2    1000000.0\n",
       "3     500000.0\n",
       "4          0.0\n",
       "5    -500000.0\n",
       "6   -1000000.0\n",
       "7   -1500000.0\n",
       "8   -2000000.0\n",
       "Name: Sales, dtype: float64"
      ]
     },
     "execution_count": 45,
     "metadata": {},
     "output_type": "execute_result"
    }
   ],
   "source": [
    "diffs = data['Sales'] - data['Sales'].mean()\n",
    "diffs"
   ]
  },
  {
   "cell_type": "code",
   "execution_count": 46,
   "id": "d98396de",
   "metadata": {},
   "outputs": [
    {
     "data": {
      "text/plain": [
       "0    4.000000e+12\n",
       "1    2.250000e+12\n",
       "2    1.000000e+12\n",
       "3    2.500000e+11\n",
       "4    0.000000e+00\n",
       "5    2.500000e+11\n",
       "6    1.000000e+12\n",
       "7    2.250000e+12\n",
       "8    4.000000e+12\n",
       "Name: Sales, dtype: float64"
      ]
     },
     "execution_count": 46,
     "metadata": {},
     "output_type": "execute_result"
    }
   ],
   "source": [
    "diffs_sq = diffs**2\n",
    "diffs_sq"
   ]
  },
  {
   "cell_type": "code",
   "execution_count": 49,
   "id": "ee48d251",
   "metadata": {},
   "outputs": [
    {
     "data": {
      "text/plain": [
       "15000000000000.0"
      ]
     },
     "execution_count": 49,
     "metadata": {},
     "output_type": "execute_result"
    }
   ],
   "source": [
    "total_ss = sum(diffs_sq)\n",
    "total_ss"
   ]
  },
  {
   "cell_type": "code",
   "execution_count": 59,
   "id": "4b7945dc",
   "metadata": {},
   "outputs": [
    {
     "data": {
      "text/plain": [
       "0    0.266667\n",
       "1    0.150000\n",
       "2    0.066667\n",
       "3    0.016667\n",
       "4    0.000000\n",
       "5    0.016667\n",
       "6    0.066667\n",
       "7    0.150000\n",
       "8    0.266667\n",
       "Name: Sales, dtype: float64"
      ]
     },
     "execution_count": 59,
     "metadata": {},
     "output_type": "execute_result"
    }
   ],
   "source": [
    "props = diffs_sq/total_ss\n",
    "props"
   ]
  },
  {
   "cell_type": "code",
   "execution_count": 60,
   "id": "62acbd32",
   "metadata": {},
   "outputs": [
    {
     "data": {
      "text/plain": [
       "0    0.266667\n",
       "1    0.150000\n",
       "2    0.066667\n",
       "3    0.016667\n",
       "4   -0.000000\n",
       "5   -0.016667\n",
       "6   -0.066667\n",
       "7   -0.150000\n",
       "8   -0.266667\n",
       "Name: Sales, dtype: float64"
      ]
     },
     "execution_count": 60,
     "metadata": {},
     "output_type": "execute_result"
    }
   ],
   "source": [
    "props[4:] = -props[4:]\n",
    "props"
   ]
  },
  {
   "cell_type": "code",
   "execution_count": 62,
   "id": "89fd68e7",
   "metadata": {},
   "outputs": [
    {
     "data": {
      "text/plain": [
       "0    0.126667\n",
       "1    0.115000\n",
       "2    0.106667\n",
       "3    0.101667\n",
       "4    0.100000\n",
       "5    0.098333\n",
       "6    0.093333\n",
       "7    0.085000\n",
       "8    0.073333\n",
       "Name: Sales, dtype: float64"
      ]
     },
     "execution_count": 62,
     "metadata": {},
     "output_type": "execute_result"
    }
   ],
   "source": [
    "growth = (1+props) * .10\n",
    "growth"
   ]
  },
  {
   "cell_type": "code",
   "execution_count": 73,
   "id": "bdc0012f",
   "metadata": {},
   "outputs": [
    {
     "data": {
      "text/plain": [
       "0    1.352000e+07\n",
       "1    1.282250e+07\n",
       "2    1.217333e+07\n",
       "3    1.156750e+07\n",
       "4    1.100000e+07\n",
       "5    1.043417e+07\n",
       "6    9.840000e+06\n",
       "7    9.222500e+06\n",
       "8    8.586667e+06\n",
       "Name: Sales, dtype: float64"
      ]
     },
     "execution_count": 73,
     "metadata": {},
     "output_type": "execute_result"
    }
   ],
   "source": [
    "targets = data[\"Sales\"] * (1+growth)\n",
    "targets"
   ]
  },
  {
   "cell_type": "code",
   "execution_count": 75,
   "id": "292e3c05",
   "metadata": {},
   "outputs": [
    {
     "data": {
      "text/plain": [
       "99166666.66666667"
      ]
     },
     "execution_count": 75,
     "metadata": {},
     "output_type": "execute_result"
    }
   ],
   "source": [
    "targets.sum()"
   ]
  },
  {
   "cell_type": "code",
   "execution_count": null,
   "id": "598e8ac8",
   "metadata": {},
   "outputs": [],
   "source": []
  }
 ],
 "metadata": {
  "kernelspec": {
   "display_name": "venv",
   "language": "python",
   "name": "venv"
  },
  "language_info": {
   "codemirror_mode": {
    "name": "ipython",
    "version": 3
   },
   "file_extension": ".py",
   "mimetype": "text/x-python",
   "name": "python",
   "nbconvert_exporter": "python",
   "pygments_lexer": "ipython3",
   "version": "3.9.5"
  }
 },
 "nbformat": 4,
 "nbformat_minor": 5
}
