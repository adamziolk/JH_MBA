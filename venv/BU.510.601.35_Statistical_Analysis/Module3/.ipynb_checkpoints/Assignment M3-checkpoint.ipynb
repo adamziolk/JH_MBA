{
 "cells": [
  {
   "cell_type": "code",
   "execution_count": 20,
   "id": "fc6e0e9f",
   "metadata": {},
   "outputs": [],
   "source": [
    "import pandas as pd\n",
    "import numpy as np\n",
    "from scipy.stats import binom, sem\n",
    "import matplotlib.pyplot as plt"
   ]
  },
  {
   "cell_type": "code",
   "execution_count": 2,
   "id": "643c6255",
   "metadata": {},
   "outputs": [],
   "source": [
    "data = pd.read_excel(r'/home/adam/Downloads/Stat online rev 3a Conf Interval assignment.xlsx', names=[\"col1\", \"col2\", \"col3\"])"
   ]
  },
  {
   "cell_type": "code",
   "execution_count": 3,
   "id": "5ad8c461",
   "metadata": {},
   "outputs": [
    {
     "data": {
      "text/html": [
       "<div>\n",
       "<style scoped>\n",
       "    .dataframe tbody tr th:only-of-type {\n",
       "        vertical-align: middle;\n",
       "    }\n",
       "\n",
       "    .dataframe tbody tr th {\n",
       "        vertical-align: top;\n",
       "    }\n",
       "\n",
       "    .dataframe thead th {\n",
       "        text-align: right;\n",
       "    }\n",
       "</style>\n",
       "<table border=\"1\" class=\"dataframe\">\n",
       "  <thead>\n",
       "    <tr style=\"text-align: right;\">\n",
       "      <th></th>\n",
       "      <th>col1</th>\n",
       "      <th>col2</th>\n",
       "      <th>col3</th>\n",
       "    </tr>\n",
       "  </thead>\n",
       "  <tbody>\n",
       "    <tr>\n",
       "      <th>NaN</th>\n",
       "      <td>47</td>\n",
       "      <td>62</td>\n",
       "      <td>46</td>\n",
       "    </tr>\n",
       "    <tr>\n",
       "      <th>NaN</th>\n",
       "      <td>42</td>\n",
       "      <td>53</td>\n",
       "      <td>30</td>\n",
       "    </tr>\n",
       "    <tr>\n",
       "      <th>NaN</th>\n",
       "      <td>54</td>\n",
       "      <td>45</td>\n",
       "      <td>35</td>\n",
       "    </tr>\n",
       "    <tr>\n",
       "      <th>NaN</th>\n",
       "      <td>65</td>\n",
       "      <td>36</td>\n",
       "      <td>32</td>\n",
       "    </tr>\n",
       "    <tr>\n",
       "      <th>NaN</th>\n",
       "      <td>54</td>\n",
       "      <td>45</td>\n",
       "      <td>31</td>\n",
       "    </tr>\n",
       "    <tr>\n",
       "      <th>NaN</th>\n",
       "      <td>36</td>\n",
       "      <td>35</td>\n",
       "      <td>28</td>\n",
       "    </tr>\n",
       "    <tr>\n",
       "      <th>NaN</th>\n",
       "      <td>38</td>\n",
       "      <td>37</td>\n",
       "      <td>56</td>\n",
       "    </tr>\n",
       "    <tr>\n",
       "      <th>NaN</th>\n",
       "      <td>35</td>\n",
       "      <td>43</td>\n",
       "      <td>65</td>\n",
       "    </tr>\n",
       "    <tr>\n",
       "      <th>NaN</th>\n",
       "      <td>43</td>\n",
       "      <td>48</td>\n",
       "      <td>54</td>\n",
       "    </tr>\n",
       "    <tr>\n",
       "      <th>NaN</th>\n",
       "      <td>37</td>\n",
       "      <td>46</td>\n",
       "      <td>65</td>\n",
       "    </tr>\n",
       "    <tr>\n",
       "      <th>NaN</th>\n",
       "      <td>54</td>\n",
       "      <td>41</td>\n",
       "      <td>47</td>\n",
       "    </tr>\n",
       "  </tbody>\n",
       "</table>\n",
       "</div>"
      ],
      "text/plain": [
       "     col1  col2  col3\n",
       "NaN    47    62    46\n",
       "NaN    42    53    30\n",
       "NaN    54    45    35\n",
       "NaN    65    36    32\n",
       "NaN    54    45    31\n",
       "NaN    36    35    28\n",
       "NaN    38    37    56\n",
       "NaN    35    43    65\n",
       "NaN    43    48    54\n",
       "NaN    37    46    65\n",
       "NaN    54    41    47"
      ]
     },
     "execution_count": 3,
     "metadata": {},
     "output_type": "execute_result"
    }
   ],
   "source": [
    "data"
   ]
  },
  {
   "cell_type": "code",
   "execution_count": 4,
   "id": "7874613d",
   "metadata": {},
   "outputs": [],
   "source": [
    "data = np.concatenate([data['col1'].values, data['col2'].values, data['col3'].values], axis=None)"
   ]
  },
  {
   "cell_type": "code",
   "execution_count": 5,
   "id": "2c4608c6",
   "metadata": {},
   "outputs": [
    {
     "name": "stdout",
     "output_type": "stream",
     "text": [
      "Number of dataponts:  33\n"
     ]
    },
    {
     "data": {
      "text/plain": [
       "array([47, 42, 54, 65, 54, 36, 38, 35, 43, 37, 54, 62, 53, 45, 36, 45, 35,\n",
       "       37, 43, 48, 46, 41, 46, 30, 35, 32, 31, 28, 56, 65, 54, 65, 47])"
      ]
     },
     "execution_count": 5,
     "metadata": {},
     "output_type": "execute_result"
    }
   ],
   "source": [
    "print(\"Number of dataponts: \", data.size)\n",
    "data"
   ]
  },
  {
   "cell_type": "markdown",
   "id": "6cb770b9",
   "metadata": {},
   "source": [
    "# At Least 75% of potential customer must express some desire"
   ]
  },
  {
   "cell_type": "code",
   "execution_count": 6,
   "id": "1420ab01",
   "metadata": {},
   "outputs": [],
   "source": [
    "# Total sample size\n",
    "n = 50"
   ]
  },
  {
   "cell_type": "code",
   "execution_count": 7,
   "id": "e9a6b018",
   "metadata": {},
   "outputs": [
    {
     "data": {
      "text/plain": [
       "0.66"
      ]
     },
     "execution_count": 7,
     "metadata": {},
     "output_type": "execute_result"
    }
   ],
   "source": [
    "# % of customers surveyed who expressed interest\n",
    "p = 33/50\n",
    "p"
   ]
  },
  {
   "cell_type": "code",
   "execution_count": 8,
   "id": "55455bef",
   "metadata": {},
   "outputs": [
    {
     "data": {
      "text/plain": [
       "0.0669925368977769"
      ]
     },
     "execution_count": 8,
     "metadata": {},
     "output_type": "execute_result"
    }
   ],
   "source": [
    "# Standard Deviation of sample proportion\n",
    "# Finite Population correction factor not used due to large population to sample ratio\n",
    "sig_hat = np.sqrt((p*(1-p))/n)\n",
    "sig_hat"
   ]
  },
  {
   "cell_type": "code",
   "execution_count": 9,
   "id": "5be874d6",
   "metadata": {},
   "outputs": [
    {
     "name": "stdout",
     "output_type": "stream",
     "text": [
      "The proportion of the customer base with interest falls between 0.5286946276803572 and 0.7913053723196428\n"
     ]
    }
   ],
   "source": [
    "# 95% CI for proportion of population with interest in product\n",
    "LB = p - 1.96*sig_hat\n",
    "UB = p + 1.96*sig_hat\n",
    "\n",
    "print(f\"The proportion of the customer base with interest falls between {LB} and {UB}\")"
   ]
  },
  {
   "cell_type": "markdown",
   "id": "05799154",
   "metadata": {},
   "source": [
    "Conclusion: The target value of 75% interest falls within the 95% CI of the true value of customer interest.  It is possible that there is sufficient interest within the customer base.  Further investigation is warranted."
   ]
  },
  {
   "cell_type": "code",
   "execution_count": 10,
   "id": "33ea8ef5",
   "metadata": {},
   "outputs": [],
   "source": [
    "# Examine a binomial distribution using the sample's probability to guage possible interest\n",
    "n, p = 50, p\n",
    "x = np.arange(binom.ppf(0.01, n, p), binom.ppf(0.99, n, p))"
   ]
  },
  {
   "cell_type": "code",
   "execution_count": 11,
   "id": "c99e5555",
   "metadata": {},
   "outputs": [
    {
     "data": {
      "text/plain": [
       "[<matplotlib.lines.Line2D at 0x7f6a4d80ffa0>]"
      ]
     },
     "execution_count": 11,
     "metadata": {},
     "output_type": "execute_result"
    },
    {
     "data": {
      "image/png": "[encoded data removed]",
      "text/plain": [
       "<Figure size 432x288 with 1 Axes>"
      ]
     },
     "metadata": {
      "needs_background": "light"
     },
     "output_type": "display_data"
    }
   ],
   "source": [
    "plt.plot(x, binom.pmf(x, n, p), 'bo')"
   ]
  },
  {
   "cell_type": "code",
   "execution_count": 12,
   "id": "7826de42",
   "metadata": {},
   "outputs": [
    {
     "data": {
      "text/plain": [
       "37.0"
      ]
     },
     "execution_count": 12,
     "metadata": {},
     "output_type": "execute_result"
    }
   ],
   "source": [
    "# Calculate the target number of customer indicitive of 75% of sample\n",
    "cust75 = np.floor(50*0.75)\n",
    "cust75"
   ]
  },
  {
   "cell_type": "code",
   "execution_count": 13,
   "id": "8af9bc29",
   "metadata": {},
   "outputs": [
    {
     "data": {
      "text/plain": [
       "0.08698730366544338"
      ]
     },
     "execution_count": 13,
     "metadata": {},
     "output_type": "execute_result"
    }
   ],
   "source": [
    "# Calculate the probability that at least 75% of customers would be interested\n",
    "1-binom.cdf(cust75, n, p)"
   ]
  },
  {
   "cell_type": "markdown",
   "id": "df458a09",
   "metadata": {},
   "source": [
    "Conclusion: There is about an 8.6% chance that there is sufficient interest among the customer base."
   ]
  },
  {
   "cell_type": "markdown",
   "id": "5e8f15af",
   "metadata": {},
   "source": [
    "# For those who exhibit an interest, the average cost they are willing to pay per meal must be at least $49.00"
   ]
  },
  {
   "cell_type": "code",
   "execution_count": 39,
   "id": "9089d930",
   "metadata": {},
   "outputs": [
    {
     "data": {
      "text/plain": [
       "(45.0, 10.559356040971437, 1.8381479480139455)"
      ]
     },
     "execution_count": 39,
     "metadata": {},
     "output_type": "execute_result"
    }
   ],
   "source": [
    "# Calculate the mean, standard deviation, and standard error of the sample\n",
    "x_bar = np.mean(data)\n",
    "std = np.std(data, ddof=1)\n",
    "ste = sem(data)\n",
    "\n",
    "x_bar, std, ste"
   ]
  },
  {
   "cell_type": "code",
   "execution_count": 43,
   "id": "90b402bb",
   "metadata": {},
   "outputs": [
    {
     "name": "stdout",
     "output_type": "stream",
     "text": [
      "The average value the population is willing to pay falls between 41.39723002189267 and 48.60276997810733, based on the sample\n"
     ]
    }
   ],
   "source": [
    "# Calculate the 95% CI\n",
    "LB = x_bar - 1.96*ste\n",
    "UB = x_bar + 1.96*ste\n",
    "\n",
    "print(f\"The average value the population is willing to pay falls between {LB} and {UB}, based on the sample\")"
   ]
  },
  {
   "cell_type": "markdown",
   "id": "b5c0d7cf",
   "metadata": {},
   "source": [
    "# How large should the sample be?"
   ]
  },
  {
   "cell_type": "code",
   "execution_count": 44,
   "id": "e0bdb930",
   "metadata": {},
   "outputs": [],
   "source": [
    "# Set the parameters\n",
    "z = 1.96 # The z score corresponding to 95% confidence\n",
    "max_error = 2 # x-mu is the \"error\" parameter"
   ]
  },
  {
   "cell_type": "code",
   "execution_count": 47,
   "id": "61106fcb",
   "metadata": {},
   "outputs": [
    {
     "data": {
      "text/plain": [
       "107.08459999999998"
      ]
     },
     "execution_count": 47,
     "metadata": {},
     "output_type": "execute_result"
    }
   ],
   "source": [
    "sample_n = (z**2 * std**2) / (max_error**2)\n",
    "sample_n"
   ]
  }
 ],
 "metadata": {
  "kernelspec": {
   "display_name": "venv",
   "language": "python",
   "name": "venv"
  },
  "language_info": {
   "codemirror_mode": {
    "name": "ipython",
    "version": 3
   },
   "file_extension": ".py",
   "mimetype": "text/x-python",
   "name": "python",
   "nbconvert_exporter": "python",
   "pygments_lexer": "ipython3",
   "version": "3.9.5"
  }
 },
 "nbformat": 4,
 "nbformat_minor": 5
}
