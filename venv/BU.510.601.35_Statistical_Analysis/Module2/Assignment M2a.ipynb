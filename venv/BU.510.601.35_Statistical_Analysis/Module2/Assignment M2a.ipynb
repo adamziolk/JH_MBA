{
 "cells": [
  {
   "cell_type": "code",
   "execution_count": 1,
   "id": "31e73681",
   "metadata": {},
   "outputs": [],
   "source": [
    "import numpy as np\n",
    "from scipy.stats import binom\n",
    "import matplotlib.pyplot as plt"
   ]
  },
  {
   "cell_type": "code",
   "execution_count": 2,
   "id": "5e19feba",
   "metadata": {},
   "outputs": [],
   "source": [
    "n, p = 12, 0.05\n",
    "x = np.arange(13)"
   ]
  },
  {
   "cell_type": "code",
   "execution_count": 3,
   "id": "4a3d7619",
   "metadata": {},
   "outputs": [
    {
     "data": {
      "text/plain": [
       "[<matplotlib.lines.Line2D at 0x7f7691a9b1f0>]"
      ]
     },
     "execution_count": 3,
     "metadata": {},
     "output_type": "execute_result"
    },
    {
     "data": {
      "image/png": "[encoded data removed]",
      "text/plain": [
       "<Figure size 432x288 with 1 Axes>"
      ]
     },
     "metadata": {
      "needs_background": "light"
     },
     "output_type": "display_data"
    }
   ],
   "source": [
    "plt.plot(x, binom.pmf(x, n, p), 'bo')"
   ]
  },
  {
   "cell_type": "code",
   "execution_count": 4,
   "id": "ad29f122",
   "metadata": {},
   "outputs": [
    {
     "data": {
      "text/plain": [
       "[<matplotlib.lines.Line2D at 0x7f768f9980d0>]"
      ]
     },
     "execution_count": 4,
     "metadata": {},
     "output_type": "execute_result"
    },
    {
     "data": {
      "image/png": "[encoded data removed]",
      "text/plain": [
       "<Figure size 432x288 with 1 Axes>"
      ]
     },
     "metadata": {
      "needs_background": "light"
     },
     "output_type": "display_data"
    }
   ],
   "source": [
    "plt.plot(x, binom.cdf(x, n, p), 'bo')"
   ]
  },
  {
   "cell_type": "code",
   "execution_count": 5,
   "id": "31db7dc8",
   "metadata": {},
   "outputs": [
    {
     "data": {
      "text/plain": [
       "0.341280055365876"
      ]
     },
     "execution_count": 5,
     "metadata": {},
     "output_type": "execute_result"
    }
   ],
   "source": [
    "binom.pmf(1, n, p) # Exactly one"
   ]
  },
  {
   "cell_type": "code",
   "execution_count": 6,
   "id": "70f509f8",
   "metadata": {},
   "outputs": [
    {
     "data": {
      "text/plain": [
       "0.1183487491818429"
      ]
     },
     "execution_count": 6,
     "metadata": {},
     "output_type": "execute_result"
    }
   ],
   "source": [
    "binom.cdf(5, n, p) - binom.cdf(1, n, p) # Two, three, four, or five"
   ]
  },
  {
   "cell_type": "code",
   "execution_count": 7,
   "id": "5168d589",
   "metadata": {},
   "outputs": [
    {
     "data": {
      "text/plain": [
       "0.9804317380028454"
      ]
     },
     "execution_count": 7,
     "metadata": {},
     "output_type": "execute_result"
    }
   ],
   "source": [
    "binom.cdf(2, n, p) # Zero, one, or two"
   ]
  }
 ],
 "metadata": {
  "kernelspec": {
   "display_name": "Python 3",
   "language": "python",
   "name": "python3"
  },
  "language_info": {
   "codemirror_mode": {
    "name": "ipython",
    "version": 3
   },
   "file_extension": ".py",
   "mimetype": "text/x-python",
   "name": "python",
   "nbconvert_exporter": "python",
   "pygments_lexer": "ipython3",
   "version": "3.7.6"
  }
 },
 "nbformat": 4,
 "nbformat_minor": 5
}
