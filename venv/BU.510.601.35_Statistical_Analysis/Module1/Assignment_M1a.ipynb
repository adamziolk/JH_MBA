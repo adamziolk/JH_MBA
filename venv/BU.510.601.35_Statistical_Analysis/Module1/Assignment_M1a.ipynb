{
 "cells": [
  {
   "cell_type": "code",
   "execution_count": 58,
   "id": "3fa7a134",
   "metadata": {},
   "outputs": [],
   "source": [
    "import pandas as pd\n",
    "import matplotlib.pyplot as plt\n",
    "import numpy as np\n"
   ]
  },
  {
   "cell_type": "code",
   "execution_count": 14,
   "id": "ee23b8bd",
   "metadata": {},
   "outputs": [],
   "source": [
    "data = pd.read_excel(r\"/home/adam/Documents/JH_MBA/BU.510.601.35_Statistical_Analysis/Module1/Stat_mod_1_dataset.xlsx\", header=None)"
   ]
  },
  {
   "cell_type": "code",
   "execution_count": 32,
   "id": "3bb5f703",
   "metadata": {},
   "outputs": [
    {
     "name": "stdout",
     "output_type": "stream",
     "text": [
      "n:  50\n",
      "min:  -2827\n",
      "max:  5600\n",
      "class length:  1404.5\n"
     ]
    }
   ],
   "source": [
    "n = len(data)\n",
    "\n",
    "print(\"n: \", n)\n",
    "\n",
    "\n",
    "classes = 6\n",
    "data_min = min(data[0])\n",
    "data_max = max(data[0])\n",
    "\n",
    "print(\"min: \", data_min)\n",
    "print(\"max: \", data_max)\n",
    "print(\"class length: \", (data_max-data_min) / classes)"
   ]
  },
  {
   "cell_type": "code",
   "execution_count": 26,
   "id": "2ee03d68",
   "metadata": {},
   "outputs": [
    {
     "data": {
      "text/plain": [
       "8427"
      ]
     },
     "execution_count": 26,
     "metadata": {},
     "output_type": "execute_result"
    }
   ],
   "source": [
    "data_max - data_min"
   ]
  },
  {
   "cell_type": "code",
   "execution_count": 33,
   "id": "83ce5208",
   "metadata": {},
   "outputs": [
    {
     "data": {
      "image/png": "[encoded data removed]",
      "text/plain": [
       "<Figure size 432x288 with 1 Axes>"
      ]
     },
     "metadata": {
      "needs_background": "light"
     },
     "output_type": "display_data"
    }
   ],
   "source": [
    "counts, bins, bars = plt.hist(data[0], bins = 6)"
   ]
  },
  {
   "cell_type": "code",
   "execution_count": 34,
   "id": "e8bf32a8",
   "metadata": {},
   "outputs": [
    {
     "data": {
      "text/plain": [
       "array([ 2.,  7.,  6., 12., 18.,  5.])"
      ]
     },
     "execution_count": 34,
     "metadata": {},
     "output_type": "execute_result"
    }
   ],
   "source": [
    "counts"
   ]
  },
  {
   "cell_type": "code",
   "execution_count": 35,
   "id": "b392d701",
   "metadata": {},
   "outputs": [
    {
     "data": {
      "text/plain": [
       "array([-2827. , -1422.5,   -18. ,  1386.5,  2791. ,  4195.5,  5600. ])"
      ]
     },
     "execution_count": 35,
     "metadata": {},
     "output_type": "execute_result"
    }
   ],
   "source": [
    "bins"
   ]
  },
  {
   "cell_type": "code",
   "execution_count": 53,
   "id": "5fbbbfbb",
   "metadata": {},
   "outputs": [],
   "source": [
    "bin_ranges = [f'{b} up to {bins[idx+1]}' for idx, b in enumerate(bins[:-1])]"
   ]
  },
  {
   "cell_type": "code",
   "execution_count": 54,
   "id": "a1f20fb4",
   "metadata": {},
   "outputs": [
    {
     "data": {
      "text/plain": [
       "['-2827.0 up to -1422.5',\n",
       " '-1422.5 up to -18.0',\n",
       " '-18.0 up to 1386.5',\n",
       " '1386.5 up to 2791.0',\n",
       " '2791.0 up to 4195.5',\n",
       " '4195.5 up to 5600.0']"
      ]
     },
     "execution_count": 54,
     "metadata": {},
     "output_type": "execute_result"
    }
   ],
   "source": [
    "bin_ranges"
   ]
  },
  {
   "cell_type": "code",
   "execution_count": 55,
   "id": "69450e57",
   "metadata": {},
   "outputs": [],
   "source": [
    "ft = pd.DataFrame(data = [bin_ranges, counts])"
   ]
  },
  {
   "cell_type": "code",
   "execution_count": 56,
   "id": "6e2a363b",
   "metadata": {},
   "outputs": [
    {
     "data": {
      "text/html": [
       "<div>\n",
       "<style scoped>\n",
       "    .dataframe tbody tr th:only-of-type {\n",
       "        vertical-align: middle;\n",
       "    }\n",
       "\n",
       "    .dataframe tbody tr th {\n",
       "        vertical-align: top;\n",
       "    }\n",
       "\n",
       "    .dataframe thead th {\n",
       "        text-align: right;\n",
       "    }\n",
       "</style>\n",
       "<table border=\"1\" class=\"dataframe\">\n",
       "  <thead>\n",
       "    <tr style=\"text-align: right;\">\n",
       "      <th></th>\n",
       "      <th>0</th>\n",
       "      <th>1</th>\n",
       "    </tr>\n",
       "  </thead>\n",
       "  <tbody>\n",
       "    <tr>\n",
       "      <th>0</th>\n",
       "      <td>-2827.0 up to -1422.5</td>\n",
       "      <td>2.0</td>\n",
       "    </tr>\n",
       "    <tr>\n",
       "      <th>1</th>\n",
       "      <td>-1422.5 up to -18.0</td>\n",
       "      <td>7.0</td>\n",
       "    </tr>\n",
       "    <tr>\n",
       "      <th>2</th>\n",
       "      <td>-18.0 up to 1386.5</td>\n",
       "      <td>6.0</td>\n",
       "    </tr>\n",
       "    <tr>\n",
       "      <th>3</th>\n",
       "      <td>1386.5 up to 2791.0</td>\n",
       "      <td>12.0</td>\n",
       "    </tr>\n",
       "    <tr>\n",
       "      <th>4</th>\n",
       "      <td>2791.0 up to 4195.5</td>\n",
       "      <td>18.0</td>\n",
       "    </tr>\n",
       "    <tr>\n",
       "      <th>5</th>\n",
       "      <td>4195.5 up to 5600.0</td>\n",
       "      <td>5.0</td>\n",
       "    </tr>\n",
       "  </tbody>\n",
       "</table>\n",
       "</div>"
      ],
      "text/plain": [
       "                       0     1\n",
       "0  -2827.0 up to -1422.5   2.0\n",
       "1    -1422.5 up to -18.0   7.0\n",
       "2     -18.0 up to 1386.5   6.0\n",
       "3    1386.5 up to 2791.0  12.0\n",
       "4    2791.0 up to 4195.5  18.0\n",
       "5    4195.5 up to 5600.0   5.0"
      ]
     },
     "execution_count": 56,
     "metadata": {},
     "output_type": "execute_result"
    }
   ],
   "source": [
    "ft.T"
   ]
  },
  {
   "cell_type": "code",
   "execution_count": 59,
   "id": "27aa7804",
   "metadata": {},
   "outputs": [
    {
     "data": {
      "text/plain": [
       "2357.0"
      ]
     },
     "execution_count": 59,
     "metadata": {},
     "output_type": "execute_result"
    }
   ],
   "source": [
    "np.median(data)"
   ]
  },
  {
   "cell_type": "code",
   "execution_count": 85,
   "id": "310881c0",
   "metadata": {},
   "outputs": [
    {
     "data": {
      "text/plain": [
       "58.5"
      ]
     },
     "execution_count": 85,
     "metadata": {},
     "output_type": "execute_result"
    }
   ],
   "source": [
    "np.percentile(data, 20, interpolation = 'midpoint')"
   ]
  },
  {
   "cell_type": "code",
   "execution_count": null,
   "id": "5bf32c66",
   "metadata": {},
   "outputs": [],
   "source": [
    "data.sort_values(by=0).reset_index()"
   ]
  },
  {
   "cell_type": "code",
   "execution_count": 72,
   "id": "1cf99170",
   "metadata": {},
   "outputs": [
    {
     "data": {
      "text/plain": [
       "10.0"
      ]
     },
     "execution_count": 72,
     "metadata": {},
     "output_type": "execute_result"
    }
   ],
   "source": [
    "20/100 * 50"
   ]
  },
  {
   "cell_type": "code",
   "execution_count": 74,
   "id": "aab25c9a",
   "metadata": {},
   "outputs": [
    {
     "data": {
      "text/plain": [
       "58.5"
      ]
     },
     "execution_count": 74,
     "metadata": {},
     "output_type": "execute_result"
    }
   ],
   "source": [
    "(20+97)/2"
   ]
  },
  {
   "cell_type": "code",
   "execution_count": 81,
   "id": "ac03526f",
   "metadata": {},
   "outputs": [
    {
     "data": {
      "text/plain": [
       "2357.0"
      ]
     },
     "execution_count": 81,
     "metadata": {},
     "output_type": "execute_result"
    }
   ],
   "source": [
    "(2311+2403)/2"
   ]
  },
  {
   "cell_type": "code",
   "execution_count": null,
   "id": "a38b6cbe",
   "metadata": {},
   "outputs": [],
   "source": []
  }
 ],
 "metadata": {
  "kernelspec": {
   "display_name": "Python 3",
   "language": "python",
   "name": "python3"
  },
  "language_info": {
   "codemirror_mode": {
    "name": "ipython",
    "version": 3
   },
   "file_extension": ".py",
   "mimetype": "text/x-python",
   "name": "python",
   "nbconvert_exporter": "python",
   "pygments_lexer": "ipython3",
   "version": "3.7.6"
  }
 },
 "nbformat": 4,
 "nbformat_minor": 5
}
