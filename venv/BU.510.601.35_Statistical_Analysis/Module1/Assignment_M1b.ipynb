{
 "cells": [
  {
   "cell_type": "code",
   "execution_count": 1,
   "id": "f53a8d37",
   "metadata": {},
   "outputs": [],
   "source": [
    "from scipy.stats import norm\n",
    "import numpy as np"
   ]
  },
  {
   "cell_type": "code",
   "execution_count": 2,
   "id": "705c0d7b",
   "metadata": {},
   "outputs": [],
   "source": [
    "x = np.linspace(0, 15000, 15001)"
   ]
  },
  {
   "cell_type": "code",
   "execution_count": 3,
   "id": "30b3674c",
   "metadata": {},
   "outputs": [],
   "source": [
    "cdf = norm.cdf(x, 12000, 600)"
   ]
  },
  {
   "cell_type": "code",
   "execution_count": 4,
   "id": "4ce70c8f",
   "metadata": {},
   "outputs": [
    {
     "data": {
      "text/plain": [
       "0.8185946141203637"
      ]
     },
     "execution_count": 4,
     "metadata": {},
     "output_type": "execute_result"
    }
   ],
   "source": [
    "cdf[13200] - cdf[11400]"
   ]
  },
  {
   "cell_type": "code",
   "execution_count": 5,
   "id": "25f2bf1d",
   "metadata": {},
   "outputs": [
    {
     "data": {
      "text/plain": [
       "0.0013498980316300933"
      ]
     },
     "execution_count": 5,
     "metadata": {},
     "output_type": "execute_result"
    }
   ],
   "source": [
    "cdf[10200]"
   ]
  },
  {
   "cell_type": "code",
   "execution_count": 6,
   "id": "1d6fe4f2",
   "metadata": {},
   "outputs": [
    {
     "data": {
      "text/plain": [
       "0.15730535589982697"
      ]
     },
     "execution_count": 6,
     "metadata": {},
     "output_type": "execute_result"
    }
   ],
   "source": [
    "cdf[13800] - cdf[12600]"
   ]
  }
 ],
 "metadata": {
  "kernelspec": {
   "display_name": "Python 3",
   "language": "python",
   "name": "python3"
  },
  "language_info": {
   "codemirror_mode": {
    "name": "ipython",
    "version": 3
   },
   "file_extension": ".py",
   "mimetype": "text/x-python",
   "name": "python",
   "nbconvert_exporter": "python",
   "pygments_lexer": "ipython3",
   "version": "3.7.6"
  }
 },
 "nbformat": 4,
 "nbformat_minor": 5
}
