{
 "cells": [
  {
   "cell_type": "code",
   "execution_count": 12,
   "id": "4f3d879d",
   "metadata": {},
   "outputs": [],
   "source": [
    "import math\n",
    "from scipy.stats import norm\n",
    "import numpy as np\n",
    "import matplotlib.pyplot as plt"
   ]
  },
  {
   "cell_type": "markdown",
   "id": "4e61f8af",
   "metadata": {},
   "source": [
    "# Price"
   ]
  },
  {
   "cell_type": "code",
   "execution_count": 11,
   "id": "e791e693",
   "metadata": {},
   "outputs": [],
   "source": [
    "mu, sig = 49.20, 4.60 # Observed values\n",
    "x = np.linspace(norm.ppf(0.01, mu, sig), norm.ppf(0.99, mu, sig), 10000)"
   ]
  },
  {
   "cell_type": "code",
   "execution_count": 13,
   "id": "5adfb62f",
   "metadata": {},
   "outputs": [
    {
     "data": {
      "text/plain": [
       "[<matplotlib.lines.Line2D at 0x7fddabab2f70>]"
      ]
     },
     "execution_count": 13,
     "metadata": {},
     "output_type": "execute_result"
    },
    {
     "data": {
      "image/png": "[encoded data removed]",
      "text/plain": [
       "<Figure size 432x288 with 1 Axes>"
      ]
     },
     "metadata": {
      "needs_background": "light"
     },
     "output_type": "display_data"
    }
   ],
   "source": [
    "plt.plot(x, norm.pdf(x, mu, sig))"
   ]
  },
  {
   "cell_type": "code",
   "execution_count": 27,
   "id": "17735a34",
   "metadata": {},
   "outputs": [
    {
     "data": {
      "text/plain": [
       "48.46330595307941"
      ]
     },
     "execution_count": 27,
     "metadata": {},
     "output_type": "execute_result"
    }
   ],
   "source": [
    "# \"At Least\" - H_0 >= 49.00\n",
    "z = 1.65 # 1-tailed, left side\n",
    "n = 200 # n >= 30, thus z test is used\n",
    "mu_0 = 49 # Hypothesized value\n",
    "\n",
    "x_c = mu_0 - z*(sig/math.sqrt(n))\n",
    "x_c"
   ]
  },
  {
   "cell_type": "markdown",
   "id": "c8f1e169",
   "metadata": {},
   "source": [
    "Conclusion: \n",
    "The observed value of 49.20 falls into the do not reject region, to the right of the critical value of 48.46.  Thus we do not reject the H_0 that the customers will spend >= 49.00."
   ]
  },
  {
   "cell_type": "markdown",
   "id": "464a799f",
   "metadata": {},
   "source": [
    "# Proportion"
   ]
  },
  {
   "cell_type": "code",
   "execution_count": 31,
   "id": "0f0326df",
   "metadata": {},
   "outputs": [
    {
     "data": {
      "text/plain": [
       "0.6994792740550969"
      ]
     },
     "execution_count": 31,
     "metadata": {},
     "output_type": "execute_result"
    }
   ],
   "source": [
    "# \"At least\" - H_0 >= .75\n",
    "p_hat = .62\n",
    "p_0 = .75\n",
    "z = 1.65 # 1-tailed, left side\n",
    "\n",
    "std_err = math.sqrt((p_0*(1-p_0))/n)\n",
    "p_c = p_0 - z*std_err\n",
    "p_c"
   ]
  },
  {
   "cell_type": "markdown",
   "id": "88b2e8d1",
   "metadata": {},
   "source": [
    "Conclusion:\n",
    "The observed value of .62 falls to the left of the critical value and is in the rejection region.  Thus we reject the H_0 that there are at least 75% of customers interested in the product."
   ]
  }
 ],
 "metadata": {
  "kernelspec": {
   "display_name": "venv",
   "language": "python",
   "name": "venv"
  },
  "language_info": {
   "codemirror_mode": {
    "name": "ipython",
    "version": 3
   },
   "file_extension": ".py",
   "mimetype": "text/x-python",
   "name": "python",
   "nbconvert_exporter": "python",
   "pygments_lexer": "ipython3",
   "version": "3.9.5"
  }
 },
 "nbformat": 4,
 "nbformat_minor": 5
}
