{
 "cells": [
  {
   "cell_type": "code",
   "execution_count": 3,
   "id": "9073a8ef",
   "metadata": {},
   "outputs": [],
   "source": [
    "import math"
   ]
  },
  {
   "cell_type": "code",
   "execution_count": 4,
   "id": "12702e89",
   "metadata": {},
   "outputs": [],
   "source": [
    "n1 = 145\n",
    "n2 = 128\n",
    "\n",
    "x_bar1 = 52.5\n",
    "x_bar2 = 39.7\n",
    "\n",
    "sig1 = 19.7\n",
    "sig2 = 8.9"
   ]
  },
  {
   "cell_type": "code",
   "execution_count": 6,
   "id": "8ef37589",
   "metadata": {},
   "outputs": [
    {
     "data": {
      "text/plain": [
       "8.923263719578848"
      ]
     },
     "execution_count": 6,
     "metadata": {},
     "output_type": "execute_result"
    }
   ],
   "source": [
    "# Use Z test since n >= 30\n",
    "numerator = ((x_bar1 - x_bar2) - 0)\n",
    "denominator = math.sqrt( (sig1**2 / n1) - (sig2**2 / n2))\n",
    "z = numerator/denominator\n",
    "z"
   ]
  },
  {
   "cell_type": "markdown",
   "id": "a1b55e46",
   "metadata": {},
   "source": [
    "The z statistic is 8.9, which falls in the rejection region of the H_0 z value of +/-1.65.  We reject the H_0 that the difference between plants is 0."
   ]
  }
 ],
 "metadata": {
  "kernelspec": {
   "display_name": "venv",
   "language": "python",
   "name": "venv"
  },
  "language_info": {
   "codemirror_mode": {
    "name": "ipython",
    "version": 3
   },
   "file_extension": ".py",
   "mimetype": "text/x-python",
   "name": "python",
   "nbconvert_exporter": "python",
   "pygments_lexer": "ipython3",
   "version": "3.9.5"
  }
 },
 "nbformat": 4,
 "nbformat_minor": 5
}
