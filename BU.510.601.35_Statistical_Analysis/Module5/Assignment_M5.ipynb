{
 "cells": [
  {
   "cell_type": "code",
   "execution_count": 66,
   "id": "b434474c",
   "metadata": {},
   "outputs": [],
   "source": [
    "import numpy as np\n",
    "import scipy.stats\n",
    "import pandas as pd\n",
    "from statsmodels.stats.multicomp import pairwise_tukeyhsd"
   ]
  },
  {
   "cell_type": "code",
   "execution_count": 13,
   "id": "234724b8",
   "metadata": {},
   "outputs": [],
   "source": [
    "data = pd.read_excel(r\"/home/adam/Downloads/Stat online ANOVA 2019 data.xlsx\", header=1, index_col=0)"
   ]
  },
  {
   "cell_type": "code",
   "execution_count": 14,
   "id": "7b542524",
   "metadata": {},
   "outputs": [
    {
     "data": {
      "text/html": [
       "<div>\n",
       "<style scoped>\n",
       "    .dataframe tbody tr th:only-of-type {\n",
       "        vertical-align: middle;\n",
       "    }\n",
       "\n",
       "    .dataframe tbody tr th {\n",
       "        vertical-align: top;\n",
       "    }\n",
       "\n",
       "    .dataframe thead th {\n",
       "        text-align: right;\n",
       "    }\n",
       "</style>\n",
       "<table border=\"1\" class=\"dataframe\">\n",
       "  <thead>\n",
       "    <tr style=\"text-align: right;\">\n",
       "      <th></th>\n",
       "      <th>Aisle</th>\n",
       "      <th>End-Cap</th>\n",
       "      <th>Checkout Lane</th>\n",
       "    </tr>\n",
       "    <tr>\n",
       "      <th>Store</th>\n",
       "      <th></th>\n",
       "      <th></th>\n",
       "      <th></th>\n",
       "    </tr>\n",
       "  </thead>\n",
       "  <tbody>\n",
       "    <tr>\n",
       "      <th>1</th>\n",
       "      <td>738</td>\n",
       "      <td>712</td>\n",
       "      <td>833</td>\n",
       "    </tr>\n",
       "    <tr>\n",
       "      <th>2</th>\n",
       "      <td>726</td>\n",
       "      <td>685</td>\n",
       "      <td>795</td>\n",
       "    </tr>\n",
       "    <tr>\n",
       "      <th>3</th>\n",
       "      <td>722</td>\n",
       "      <td>725</td>\n",
       "      <td>782</td>\n",
       "    </tr>\n",
       "    <tr>\n",
       "      <th>4</th>\n",
       "      <td>715</td>\n",
       "      <td>699</td>\n",
       "      <td>754</td>\n",
       "    </tr>\n",
       "    <tr>\n",
       "      <th>5</th>\n",
       "      <td>767</td>\n",
       "      <td>632</td>\n",
       "      <td>772</td>\n",
       "    </tr>\n",
       "  </tbody>\n",
       "</table>\n",
       "</div>"
      ],
      "text/plain": [
       "       Aisle  End-Cap  Checkout Lane\n",
       "Store                               \n",
       "1        738      712            833\n",
       "2        726      685            795\n",
       "3        722      725            782\n",
       "4        715      699            754\n",
       "5        767      632            772"
      ]
     },
     "execution_count": 14,
     "metadata": {},
     "output_type": "execute_result"
    }
   ],
   "source": [
    "data"
   ]
  },
  {
   "cell_type": "code",
   "execution_count": 22,
   "id": "d814fdfa",
   "metadata": {},
   "outputs": [
    {
     "data": {
      "text/plain": [
       "F_onewayResult(statistic=13.55313813987579, pvalue=0.0008348504608853334)"
      ]
     },
     "execution_count": 22,
     "metadata": {},
     "output_type": "execute_result"
    }
   ],
   "source": [
    "# Too easy\n",
    "scipy.stats.f_oneway(data['Aisle'], data['End-Cap'], data['Checkout Lane'])"
   ]
  },
  {
   "cell_type": "code",
   "execution_count": 24,
   "id": "3279ab23",
   "metadata": {},
   "outputs": [],
   "source": [
    "# Much better\n",
    "n_a = n_ec = n_cl = 5\n",
    "\n",
    "xbar_a = np.mean(data['Aisle'])\n",
    "xbar_ec = np.mean(data['End-Cap'])\n",
    "xbar_cl = np.mean(data['Checkout Lane'])\n",
    "\n",
    "grand_mean = (n_a*xbar_a + n_ec*xbar_ec + n_cl*xbar_cl) / 15"
   ]
  },
  {
   "cell_type": "code",
   "execution_count": 44,
   "id": "cb7c044f",
   "metadata": {},
   "outputs": [],
   "source": [
    "sstr = (n_a*(xbar_a - grand_mean)**2 + n_ec*(xbar_ec - grand_mean)**2 + n_cl*(xbar_cl - grand_mean)**2)\n",
    "sse = np.sum((data['Aisle'] - xbar_a)**2 + (data['End-Cap'] - xbar_ec)**2 + (data['Checkout Lane'] - xbar_cl)**2)\n",
    "\n",
    "n = 15\n",
    "c = 3"
   ]
  },
  {
   "cell_type": "code",
   "execution_count": 54,
   "id": "e354b8c0",
   "metadata": {},
   "outputs": [],
   "source": [
    "mstr = sstr/(c-1)\n",
    "mse = sse/(n-c)"
   ]
  },
  {
   "cell_type": "code",
   "execution_count": 55,
   "id": "6eb02c5a",
   "metadata": {},
   "outputs": [
    {
     "data": {
      "text/plain": [
       "13.553138139875792"
      ]
     },
     "execution_count": 55,
     "metadata": {},
     "output_type": "execute_result"
    }
   ],
   "source": [
    "# Critical F_(0.05, 2, 12) is 3.885\n",
    "f = mstr/mse\n",
    "f"
   ]
  },
  {
   "cell_type": "markdown",
   "id": "0c667bf0",
   "metadata": {},
   "source": [
    "# Tukey Test"
   ]
  },
  {
   "cell_type": "code",
   "execution_count": 65,
   "id": "915a5be0",
   "metadata": {},
   "outputs": [
    {
     "data": {
      "text/html": [
       "<div>\n",
       "<style scoped>\n",
       "    .dataframe tbody tr th:only-of-type {\n",
       "        vertical-align: middle;\n",
       "    }\n",
       "\n",
       "    .dataframe tbody tr th {\n",
       "        vertical-align: top;\n",
       "    }\n",
       "\n",
       "    .dataframe thead th {\n",
       "        text-align: right;\n",
       "    }\n",
       "</style>\n",
       "<table border=\"1\" class=\"dataframe\">\n",
       "  <thead>\n",
       "    <tr style=\"text-align: right;\">\n",
       "      <th></th>\n",
       "      <th>Treatment</th>\n",
       "      <th>Store</th>\n",
       "      <th>value</th>\n",
       "    </tr>\n",
       "  </thead>\n",
       "  <tbody>\n",
       "    <tr>\n",
       "      <th>0</th>\n",
       "      <td>Aisle</td>\n",
       "      <td>1</td>\n",
       "      <td>738</td>\n",
       "    </tr>\n",
       "    <tr>\n",
       "      <th>1</th>\n",
       "      <td>Aisle</td>\n",
       "      <td>2</td>\n",
       "      <td>726</td>\n",
       "    </tr>\n",
       "    <tr>\n",
       "      <th>2</th>\n",
       "      <td>Aisle</td>\n",
       "      <td>3</td>\n",
       "      <td>722</td>\n",
       "    </tr>\n",
       "    <tr>\n",
       "      <th>3</th>\n",
       "      <td>Aisle</td>\n",
       "      <td>4</td>\n",
       "      <td>715</td>\n",
       "    </tr>\n",
       "    <tr>\n",
       "      <th>4</th>\n",
       "      <td>Aisle</td>\n",
       "      <td>5</td>\n",
       "      <td>767</td>\n",
       "    </tr>\n",
       "    <tr>\n",
       "      <th>5</th>\n",
       "      <td>End-Cap</td>\n",
       "      <td>1</td>\n",
       "      <td>712</td>\n",
       "    </tr>\n",
       "    <tr>\n",
       "      <th>6</th>\n",
       "      <td>End-Cap</td>\n",
       "      <td>2</td>\n",
       "      <td>685</td>\n",
       "    </tr>\n",
       "    <tr>\n",
       "      <th>7</th>\n",
       "      <td>End-Cap</td>\n",
       "      <td>3</td>\n",
       "      <td>725</td>\n",
       "    </tr>\n",
       "    <tr>\n",
       "      <th>8</th>\n",
       "      <td>End-Cap</td>\n",
       "      <td>4</td>\n",
       "      <td>699</td>\n",
       "    </tr>\n",
       "    <tr>\n",
       "      <th>9</th>\n",
       "      <td>End-Cap</td>\n",
       "      <td>5</td>\n",
       "      <td>632</td>\n",
       "    </tr>\n",
       "    <tr>\n",
       "      <th>10</th>\n",
       "      <td>Checkout Lane</td>\n",
       "      <td>1</td>\n",
       "      <td>833</td>\n",
       "    </tr>\n",
       "    <tr>\n",
       "      <th>11</th>\n",
       "      <td>Checkout Lane</td>\n",
       "      <td>2</td>\n",
       "      <td>795</td>\n",
       "    </tr>\n",
       "    <tr>\n",
       "      <th>12</th>\n",
       "      <td>Checkout Lane</td>\n",
       "      <td>3</td>\n",
       "      <td>782</td>\n",
       "    </tr>\n",
       "    <tr>\n",
       "      <th>13</th>\n",
       "      <td>Checkout Lane</td>\n",
       "      <td>4</td>\n",
       "      <td>754</td>\n",
       "    </tr>\n",
       "    <tr>\n",
       "      <th>14</th>\n",
       "      <td>Checkout Lane</td>\n",
       "      <td>5</td>\n",
       "      <td>772</td>\n",
       "    </tr>\n",
       "  </tbody>\n",
       "</table>\n",
       "</div>"
      ],
      "text/plain": [
       "        Treatment  Store  value\n",
       "0           Aisle      1    738\n",
       "1           Aisle      2    726\n",
       "2           Aisle      3    722\n",
       "3           Aisle      4    715\n",
       "4           Aisle      5    767\n",
       "5         End-Cap      1    712\n",
       "6         End-Cap      2    685\n",
       "7         End-Cap      3    725\n",
       "8         End-Cap      4    699\n",
       "9         End-Cap      5    632\n",
       "10  Checkout Lane      1    833\n",
       "11  Checkout Lane      2    795\n",
       "12  Checkout Lane      3    782\n",
       "13  Checkout Lane      4    754\n",
       "14  Checkout Lane      5    772"
      ]
     },
     "execution_count": 65,
     "metadata": {},
     "output_type": "execute_result"
    }
   ],
   "source": [
    "df = data.unstack().reset_index(name='value').rename(columns = {'level_0': 'Treatment'})\n",
    "df"
   ]
  },
  {
   "cell_type": "code",
   "execution_count": 67,
   "id": "c31e489e",
   "metadata": {},
   "outputs": [
    {
     "name": "stdout",
     "output_type": "stream",
     "text": [
      "         Multiple Comparison of Means - Tukey HSD, FWER=0.05         \n",
      "=====================================================================\n",
      "    group1        group2    meandiff p-adj    lower    upper   reject\n",
      "---------------------------------------------------------------------\n",
      "        Aisle Checkout Lane     53.6  0.034    4.0251 103.1749   True\n",
      "        Aisle       End-Cap    -43.0 0.0921  -92.5749   6.5749  False\n",
      "Checkout Lane       End-Cap    -96.6  0.001 -146.1749 -47.0251   True\n",
      "---------------------------------------------------------------------\n"
     ]
    }
   ],
   "source": [
    "# Easy Way\n",
    "tukey = pairwise_tukeyhsd(endog=df['value'], groups=df['Treatment'], alpha=0.05)\n",
    "print(tukey)"
   ]
  },
  {
   "cell_type": "code",
   "execution_count": 68,
   "id": "9bf424b9",
   "metadata": {},
   "outputs": [],
   "source": [
    "# Hard Way\n",
    "q = 3.77\n",
    "tukey_val = q*np.sqrt(mse / 5)"
   ]
  },
  {
   "cell_type": "code",
   "execution_count": 69,
   "id": "d5852e1c",
   "metadata": {},
   "outputs": [
    {
     "data": {
      "text/plain": [
       "49.56080485625713"
      ]
     },
     "execution_count": 69,
     "metadata": {},
     "output_type": "execute_result"
    }
   ],
   "source": [
    "tukey_val"
   ]
  },
  {
   "cell_type": "code",
   "execution_count": 73,
   "id": "826080ae",
   "metadata": {},
   "outputs": [
    {
     "data": {
      "text/plain": [
       "43.0"
      ]
     },
     "execution_count": 73,
     "metadata": {},
     "output_type": "execute_result"
    }
   ],
   "source": [
    "xbar_a - xbar_ec # Smaller than tukey val - not significant"
   ]
  },
  {
   "cell_type": "code",
   "execution_count": 74,
   "id": "df09a155",
   "metadata": {},
   "outputs": [
    {
     "data": {
      "text/plain": [
       "-53.60000000000002"
      ]
     },
     "execution_count": 74,
     "metadata": {},
     "output_type": "execute_result"
    }
   ],
   "source": [
    "xbar_a - xbar_cl # Larger than tukey val magnitude- significant"
   ]
  },
  {
   "cell_type": "code",
   "execution_count": 75,
   "id": "5556fcf8",
   "metadata": {},
   "outputs": [
    {
     "data": {
      "text/plain": [
       "96.60000000000002"
      ]
     },
     "execution_count": 75,
     "metadata": {},
     "output_type": "execute_result"
    }
   ],
   "source": [
    "xbar_cl - xbar_ec # Larger than tukey val magnitude - significant"
   ]
  },
  {
   "cell_type": "markdown",
   "id": "2dde5394",
   "metadata": {},
   "source": [
    "The checkout lane is significantly different than the aisle and the end-cap"
   ]
  }
 ],
 "metadata": {
  "kernelspec": {
   "display_name": "venv",
   "language": "python",
   "name": "venv"
  },
  "language_info": {
   "codemirror_mode": {
    "name": "ipython",
    "version": 3
   },
   "file_extension": ".py",
   "mimetype": "text/x-python",
   "name": "python",
   "nbconvert_exporter": "python",
   "pygments_lexer": "ipython3",
   "version": "3.9.5"
  }
 },
 "nbformat": 4,
 "nbformat_minor": 5
}
