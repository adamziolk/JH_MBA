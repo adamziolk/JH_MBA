{
 "cells": [
  {
   "cell_type": "code",
   "execution_count": 5,
   "id": "5fed4900",
   "metadata": {},
   "outputs": [],
   "source": [
    "import numpy as np\n",
    "from scipy.stats import binom\n",
    "import matplotlib.pyplot as plt"
   ]
  },
  {
   "cell_type": "code",
   "execution_count": 2,
   "id": "081981ed",
   "metadata": {},
   "outputs": [],
   "source": [
    "n, p = 20, 0.05\n",
    "x = np.arange(21)"
   ]
  },
  {
   "cell_type": "code",
   "execution_count": 3,
   "id": "3c2d07f1",
   "metadata": {},
   "outputs": [
    {
     "data": {
      "text/plain": [
       "array([ 0,  1,  2,  3,  4,  5,  6,  7,  8,  9, 10, 11, 12, 13, 14, 15, 16,\n",
       "       17, 18, 19, 20])"
      ]
     },
     "execution_count": 3,
     "metadata": {},
     "output_type": "execute_result"
    }
   ],
   "source": [
    "x"
   ]
  },
  {
   "cell_type": "code",
   "execution_count": 8,
   "id": "4835803a",
   "metadata": {},
   "outputs": [
    {
     "data": {
      "text/plain": [
       "[<matplotlib.lines.Line2D at 0x7f732469f220>]"
      ]
     },
     "execution_count": 8,
     "metadata": {},
     "output_type": "execute_result"
    },
    {
     "data": {
      "image/png": "[encoded data removed]",
      "text/plain": [
       "<Figure size 432x288 with 1 Axes>"
      ]
     },
     "metadata": {
      "needs_background": "light"
     },
     "output_type": "display_data"
    }
   ],
   "source": [
    "plt.plot(x, binom.pmf(x, n, p), 'bo')"
   ]
  },
  {
   "cell_type": "code",
   "execution_count": 9,
   "id": "c33d0608",
   "metadata": {},
   "outputs": [
    {
     "data": {
      "text/plain": [
       "0.18867680126765404"
      ]
     },
     "execution_count": 9,
     "metadata": {},
     "output_type": "execute_result"
    }
   ],
   "source": [
    "binom.pmf(2, n, p)"
   ]
  },
  {
   "cell_type": "code",
   "execution_count": null,
   "id": "0575ebf0",
   "metadata": {},
   "outputs": [],
   "source": []
  },
  {
   "cell_type": "code",
   "execution_count": 20,
   "id": "b17b5187",
   "metadata": {},
   "outputs": [],
   "source": [
    "N, r, n = 10, 3, 2\n",
    "x = 2"
   ]
  },
  {
   "cell_type": "code",
   "execution_count": 21,
   "id": "6372ec22",
   "metadata": {},
   "outputs": [
    {
     "data": {
      "text/plain": [
       "0.06666666666666667"
      ]
     },
     "execution_count": 21,
     "metadata": {},
     "output_type": "execute_result"
    }
   ],
   "source": [
    "import math\n",
    "\n",
    "(math.comb(r, x) * math.comb(N-r, n-x))/math.comb(N, n)"
   ]
  },
  {
   "cell_type": "code",
   "execution_count": null,
   "id": "ad82dcd5",
   "metadata": {},
   "outputs": [],
   "source": []
  }
 ],
 "metadata": {
  "kernelspec": {
   "display_name": "venv",
   "language": "python",
   "name": "venv"
  },
  "language_info": {
   "codemirror_mode": {
    "name": "ipython",
    "version": 3
   },
   "file_extension": ".py",
   "mimetype": "text/x-python",
   "name": "python",
   "nbconvert_exporter": "python",
   "pygments_lexer": "ipython3",
   "version": "3.9.5"
  }
 },
 "nbformat": 4,
 "nbformat_minor": 5
}
